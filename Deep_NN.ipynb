{
 "cells": [
  {
   "cell_type": "code",
   "execution_count": 1,
   "metadata": {},
   "outputs": [],
   "source": [
    "# Data manipulation\n",
    "import numpy as np\n",
    "import pandas as pd\n",
    "\n",
    "# Visualization\n",
    "import matplotlib.pyplot as plt\n",
    "import seaborn as sns\n",
    "\n",
    "# Pre-processing and setup functions\n",
    "from sklearn.preprocessing import MinMaxScaler, LabelEncoder\n",
    "from sklearn.model_selection import train_test_split\n",
    "from tensorflow.keras.utils import to_categorical\n",
    "from sklearn.feature_selection import mutual_info_classif\n",
    "\n",
    "# PCA Decomposition\n",
    "from sklearn.decomposition import PCA\n",
    "\n",
    "# Neural Network\n",
    "import tensorflow as tf\n",
    "import tensorflow.keras as keras\n",
    "from tensorflow.keras.models import Sequential\n",
    "from tensorflow.keras.layers import Dense\n",
    "\n",
    "# Set viewable columns in pandas\n",
    "pd.set_option('display.max_columns', 50)"
   ]
  },
  {
   "cell_type": "code",
   "execution_count": 2,
   "metadata": {},
   "outputs": [],
   "source": [
    "exo2 = pd.read_csv('transformed_features.csv')"
   ]
  },
  {
   "cell_type": "code",
   "execution_count": 3,
   "metadata": {},
   "outputs": [],
   "source": [
    "exo2 = exo2.drop(columns=['Unnamed: 0'])"
   ]
  },
  {
   "cell_type": "markdown",
   "metadata": {},
   "source": [
    "## Transform and Encode"
   ]
  },
  {
   "cell_type": "code",
   "execution_count": 4,
   "metadata": {},
   "outputs": [
    {
     "name": "stderr",
     "output_type": "stream",
     "text": [
      "C:\\Users\\TPCal\\Anaconda3\\lib\\site-packages\\sklearn\\preprocessing\\data.py:334: DataConversionWarning: Data with input dtype int64, float64 were all converted to float64 by MinMaxScaler.\n",
      "  return self.partial_fit(X, y)\n"
     ]
    }
   ],
   "source": [
    "# Separate X and y subsets\n",
    "y = exo2['koi_disposition']\n",
    "X = exo2.drop(['koi_disposition'], axis=1)\n",
    "\n",
    "# Split X and y subsets into Test and Train datasets\n",
    "X_train, X_test, y_train, y_test = train_test_split(X, y, stratify=y)\n",
    "\n",
    "# Scale continuous values between 0 < x < 1\n",
    "X_scaler = MinMaxScaler().fit(X_train)\n",
    "X_train_scaled = X_scaler.transform(X_train)\n",
    "X_test_scaled = X_scaler.transform(X_test)\n",
    "\n",
    "# Transform the y subsets into model usable representations\n",
    "label_encoder = LabelEncoder()\n",
    "label_encoder.fit(y_train)\n",
    "\n",
    "encoded_y_train = label_encoder.transform(y_train)\n",
    "encoded_y_test = label_encoder.transform(y_test)\n",
    "\n",
    "y_train_categorical = to_categorical(encoded_y_train)\n",
    "y_test_categorical = to_categorical(encoded_y_test)"
   ]
  },
  {
   "cell_type": "markdown",
   "metadata": {},
   "source": [
    "## Build Model"
   ]
  },
  {
   "cell_type": "code",
   "execution_count": 5,
   "metadata": {},
   "outputs": [
    {
     "name": "stdout",
     "output_type": "stream",
     "text": [
      "WARNING:tensorflow:From C:\\Users\\TPCal\\Anaconda3\\lib\\site-packages\\tensorflow\\python\\ops\\resource_variable_ops.py:435: colocate_with (from tensorflow.python.framework.ops) is deprecated and will be removed in a future version.\n",
      "Instructions for updating:\n",
      "Colocations handled automatically by placer.\n"
     ]
    }
   ],
   "source": [
    "model = Sequential()\n",
    "\n",
    "model.add(Dense(\n",
    "    units = 100, kernel_regularizer = keras.regularizers.l2(0.001),\n",
    "    activation = 'relu', \n",
    "    input_dim = 67\n",
    "))\n",
    "\n",
    "model.add(Dense(\n",
    "    units = 100, kernel_regularizer = keras.regularizers.l2(0.001),\n",
    "    activation = 'relu'\n",
    "))\n",
    "\n",
    "model.add(Dense(\n",
    "    units = 100, kernel_regularizer = keras.regularizers.l2(0.001),\n",
    "    activation = 'relu'\n",
    "))\n",
    "\n",
    "model.add(Dense(\n",
    "    units = 100, kernel_regularizer = keras.regularizers.l2(0.001),\n",
    "    activation = 'relu'\n",
    "))\n",
    "\n",
    "model.add(Dense(\n",
    "    units = 100, kernel_regularizer = keras.regularizers.l2(0.001),\n",
    "    activation = 'relu'\n",
    "))\n",
    "\n",
    "model.add(Dense(\n",
    "    units = 3, \n",
    "    activation = 'softmax'\n",
    "))"
   ]
  },
  {
   "cell_type": "code",
   "execution_count": 6,
   "metadata": {},
   "outputs": [
    {
     "name": "stdout",
     "output_type": "stream",
     "text": [
      "_________________________________________________________________\n",
      "Layer (type)                 Output Shape              Param #   \n",
      "=================================================================\n",
      "dense (Dense)                (None, 100)               6800      \n",
      "_________________________________________________________________\n",
      "dense_1 (Dense)              (None, 100)               10100     \n",
      "_________________________________________________________________\n",
      "dense_2 (Dense)              (None, 100)               10100     \n",
      "_________________________________________________________________\n",
      "dense_3 (Dense)              (None, 100)               10100     \n",
      "_________________________________________________________________\n",
      "dense_4 (Dense)              (None, 100)               10100     \n",
      "_________________________________________________________________\n",
      "dense_5 (Dense)              (None, 3)                 303       \n",
      "=================================================================\n",
      "Total params: 47,503\n",
      "Trainable params: 47,503\n",
      "Non-trainable params: 0\n",
      "_________________________________________________________________\n"
     ]
    }
   ],
   "source": [
    "model.summary()"
   ]
  },
  {
   "cell_type": "markdown",
   "metadata": {},
   "source": [
    "## Compile and Fit the Model"
   ]
  },
  {
   "cell_type": "code",
   "execution_count": 7,
   "metadata": {},
   "outputs": [
    {
     "name": "stdout",
     "output_type": "stream",
     "text": [
      "WARNING:tensorflow:From C:\\Users\\TPCal\\Anaconda3\\lib\\site-packages\\tensorflow\\python\\ops\\math_ops.py:3066: to_int32 (from tensorflow.python.ops.math_ops) is deprecated and will be removed in a future version.\n",
      "Instructions for updating:\n",
      "Use tf.cast instead.\n",
      "Epoch 1/40\n",
      "5243/5243 [==============================] - 1s 115us/sample - loss: 0.7571 - acc: 0.7583\n",
      "Epoch 2/40\n",
      "5243/5243 [==============================] - 0s 58us/sample - loss: 0.5066 - acc: 0.8488\n",
      "Epoch 3/40\n",
      "5243/5243 [==============================] - 0s 58us/sample - loss: 0.4736 - acc: 0.8516\n",
      "Epoch 4/40\n",
      "5243/5243 [==============================] - 0s 61us/sample - loss: 0.4370 - acc: 0.8709\n",
      "Epoch 5/40\n",
      "5243/5243 [==============================] - 0s 57us/sample - loss: 0.4160 - acc: 0.8722\n",
      "Epoch 6/40\n",
      "5243/5243 [==============================] - 0s 62us/sample - loss: 0.4089 - acc: 0.8751\n",
      "Epoch 7/40\n",
      "5243/5243 [==============================] - 0s 65us/sample - loss: 0.3978 - acc: 0.8747\n",
      "Epoch 8/40\n",
      "5243/5243 [==============================] - 0s 60us/sample - loss: 0.3940 - acc: 0.8716\n",
      "Epoch 9/40\n",
      "5243/5243 [==============================] - 0s 58us/sample - loss: 0.3725 - acc: 0.8850\n",
      "Epoch 10/40\n",
      "5243/5243 [==============================] - 0s 58us/sample - loss: 0.3680 - acc: 0.8854\n",
      "Epoch 11/40\n",
      "5243/5243 [==============================] - 0s 57us/sample - loss: 0.3622 - acc: 0.8838\n",
      "Epoch 12/40\n",
      "5243/5243 [==============================] - 0s 58us/sample - loss: 0.3619 - acc: 0.8863\n",
      "Epoch 13/40\n",
      "5243/5243 [==============================] - 0s 58us/sample - loss: 0.3478 - acc: 0.8879\n",
      "Epoch 14/40\n",
      "5243/5243 [==============================] - 0s 58us/sample - loss: 0.3496 - acc: 0.8879\n",
      "Epoch 15/40\n",
      "5243/5243 [==============================] - 0s 58us/sample - loss: 0.3508 - acc: 0.8846\n",
      "Epoch 16/40\n",
      "5243/5243 [==============================] - 0s 59us/sample - loss: 0.3374 - acc: 0.8882\n",
      "Epoch 17/40\n",
      "5243/5243 [==============================] - 0s 58us/sample - loss: 0.3341 - acc: 0.8892\n",
      "Epoch 18/40\n",
      "5243/5243 [==============================] - 0s 58us/sample - loss: 0.3460 - acc: 0.8798\n",
      "Epoch 19/40\n",
      "5243/5243 [==============================] - 0s 58us/sample - loss: 0.3378 - acc: 0.8858\n",
      "Epoch 20/40\n",
      "5243/5243 [==============================] - 0s 58us/sample - loss: 0.3275 - acc: 0.8915\n",
      "Epoch 21/40\n",
      "5243/5243 [==============================] - 0s 58us/sample - loss: 0.3251 - acc: 0.8915\n",
      "Epoch 22/40\n",
      "5243/5243 [==============================] - 0s 57us/sample - loss: 0.3304 - acc: 0.8835\n",
      "Epoch 23/40\n",
      "5243/5243 [==============================] - 0s 62us/sample - loss: 0.3219 - acc: 0.8915\n",
      "Epoch 24/40\n",
      "5243/5243 [==============================] - 0s 58us/sample - loss: 0.3180 - acc: 0.89400s - loss: 0.3109 - acc: 0.\n",
      "Epoch 25/40\n",
      "5243/5243 [==============================] - 0s 58us/sample - loss: 0.3192 - acc: 0.8913\n",
      "Epoch 26/40\n",
      "5243/5243 [==============================] - 0s 59us/sample - loss: 0.3187 - acc: 0.8888\n",
      "Epoch 27/40\n",
      "5243/5243 [==============================] - 0s 58us/sample - loss: 0.3196 - acc: 0.8884\n",
      "Epoch 28/40\n",
      "5243/5243 [==============================] - 0s 58us/sample - loss: 0.3183 - acc: 0.8871\n",
      "Epoch 29/40\n",
      "5243/5243 [==============================] - 0s 58us/sample - loss: 0.3107 - acc: 0.8915\n",
      "Epoch 30/40\n",
      "5243/5243 [==============================] - 0s 60us/sample - loss: 0.3103 - acc: 0.8924\n",
      "Epoch 31/40\n",
      "5243/5243 [==============================] - 0s 63us/sample - loss: 0.3158 - acc: 0.8903\n",
      "Epoch 32/40\n",
      "5243/5243 [==============================] - 0s 61us/sample - loss: 0.3046 - acc: 0.8920\n",
      "Epoch 33/40\n",
      "5243/5243 [==============================] - 0s 63us/sample - loss: 0.3049 - acc: 0.8917\n",
      "Epoch 34/40\n",
      "5243/5243 [==============================] - 0s 60us/sample - loss: 0.3040 - acc: 0.8941\n",
      "Epoch 35/40\n",
      "5243/5243 [==============================] - 0s 60us/sample - loss: 0.2978 - acc: 0.8953\n",
      "Epoch 36/40\n",
      "5243/5243 [==============================] - 0s 59us/sample - loss: 0.3034 - acc: 0.8899\n",
      "Epoch 37/40\n",
      "5243/5243 [==============================] - 0s 58us/sample - loss: 0.3116 - acc: 0.8842\n",
      "Epoch 38/40\n",
      "5243/5243 [==============================] - 0s 58us/sample - loss: 0.2971 - acc: 0.8953\n",
      "Epoch 39/40\n",
      "5243/5243 [==============================] - 0s 57us/sample - loss: 0.3038 - acc: 0.8877\n",
      "Epoch 40/40\n",
      "5243/5243 [==============================] - 0s 59us/sample - loss: 0.2942 - acc: 0.8932\n"
     ]
    },
    {
     "data": {
      "text/plain": [
       "<tensorflow.python.keras.callbacks.History at 0x1cbe49f9a90>"
      ]
     },
     "execution_count": 7,
     "metadata": {},
     "output_type": "execute_result"
    }
   ],
   "source": [
    "model.compile(\n",
    "    optimizer = 'adam',\n",
    "    loss = 'categorical_crossentropy',\n",
    "    metrics = ['accuracy']\n",
    ")\n",
    "\n",
    "model.fit(\n",
    "    X_train_scaled, \n",
    "    y_train_categorical, \n",
    "    epochs = 40, \n",
    "    shuffle = True, \n",
    "    verbose = 1\n",
    ")"
   ]
  },
  {
   "cell_type": "markdown",
   "metadata": {},
   "source": [
    "## Model Accuracy"
   ]
  },
  {
   "cell_type": "code",
   "execution_count": 8,
   "metadata": {},
   "outputs": [
    {
     "name": "stdout",
     "output_type": "stream",
     "text": [
      "Normal Neural Network - Loss: 0.30301057828645683, Accuracy: 0.8947368264198303\n"
     ]
    }
   ],
   "source": [
    "model_loss, model_accuracy = model.evaluate(X_test_scaled, y_test_categorical, verbose=0)\n",
    "print(f\"Normal Neural Network - Loss: {model_loss}, Accuracy: {model_accuracy}\")"
   ]
  },
  {
   "cell_type": "code",
   "execution_count": 9,
   "metadata": {},
   "outputs": [
    {
     "name": "stdout",
     "output_type": "stream",
     "text": [
      "Predicted classes: ['CONFIRMED' 'CONFIRMED' 'CONFIRMED' 'CONFIRMED' 'FALSE POSITIVE'\n",
      " 'FALSE POSITIVE' 'CONFIRMED' 'CANDIDATE' 'CONFIRMED' 'FALSE POSITIVE']\n",
      "Actual labels: ['CONFIRMED', 'CONFIRMED', 'CONFIRMED', 'CONFIRMED', 'FALSE POSITIVE', 'FALSE POSITIVE', 'CONFIRMED', 'CANDIDATE', 'CONFIRMED', 'FALSE POSITIVE']\n"
     ]
    }
   ],
   "source": [
    "encoded_predictions = model.predict_classes(X_test_scaled[:10])\n",
    "prediction_labels = label_encoder.inverse_transform(encoded_predictions)\n",
    "\n",
    "print(f'Predicted classes: {prediction_labels}')\n",
    "print(f'Actual labels: {list(y_test[:10])}')"
   ]
  },
  {
   "cell_type": "code",
   "execution_count": 10,
   "metadata": {},
   "outputs": [],
   "source": [
    "model.save('Deep_NN.h5')"
   ]
  },
  {
   "cell_type": "code",
   "execution_count": null,
   "metadata": {},
   "outputs": [],
   "source": []
  }
 ],
 "metadata": {
  "kernelspec": {
   "display_name": "Python 3",
   "language": "python",
   "name": "python3"
  },
  "language_info": {
   "codemirror_mode": {
    "name": "ipython",
    "version": 3
   },
   "file_extension": ".py",
   "mimetype": "text/x-python",
   "name": "python",
   "nbconvert_exporter": "python",
   "pygments_lexer": "ipython3",
   "version": "3.7.3"
  }
 },
 "nbformat": 4,
 "nbformat_minor": 2
}
