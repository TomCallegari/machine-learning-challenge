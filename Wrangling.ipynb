{
 "cells": [
  {
   "cell_type": "markdown",
   "metadata": {},
   "source": [
    "## Dependencies"
   ]
  },
  {
   "cell_type": "code",
   "execution_count": null,
   "metadata": {},
   "outputs": [],
   "source": [
    "# Manipulation\n",
    "import numpy as np\n",
    "import pandas as pd\n",
    "from scipy.stats import zscore\n",
    "\n",
    "# Visualization\n",
    "import matplotlib.pyplot as plt\n",
    "import seaborn as sns"
   ]
  },
  {
   "cell_type": "markdown",
   "metadata": {},
   "source": [
    "## Load and Examine Data"
   ]
  },
  {
   "cell_type": "code",
   "execution_count": null,
   "metadata": {},
   "outputs": [],
   "source": [
    "exo2 = pd.read_csv('Data/exoplanet_data.csv')"
   ]
  },
  {
   "cell_type": "code",
   "execution_count": null,
   "metadata": {},
   "outputs": [],
   "source": [
    "exo2.sample(5)"
   ]
  },
  {
   "cell_type": "code",
   "execution_count": null,
   "metadata": {},
   "outputs": [],
   "source": [
    "exo2.shape"
   ]
  },
  {
   "cell_type": "code",
   "execution_count": null,
   "metadata": {},
   "outputs": [],
   "source": [
    "exo2.columns"
   ]
  },
  {
   "cell_type": "code",
   "execution_count": null,
   "metadata": {},
   "outputs": [],
   "source": [
    "ax = sns.countplot(exo2['koi_disposition'])"
   ]
  },
  {
   "cell_type": "code",
   "execution_count": null,
   "metadata": {},
   "outputs": [],
   "source": [
    "values = exo2.drop(['koi_disposition'], axis=1)"
   ]
  },
  {
   "cell_type": "code",
   "execution_count": null,
   "metadata": {},
   "outputs": [],
   "source": [
    "fig = plt.figure(figsize=(15, 12))\n",
    "\n",
    "for i in range(1, len(values.columns)):\n",
    "    plt.subplot(6, 8, i)\n",
    "    f = plt.gca()\n",
    "    f.axes.get_yaxis().set_visible(False)\n",
    "\n",
    "    vals = np.size(values.iloc[:, i].unique())\n",
    "    if vals < 10:\n",
    "        bins = vals\n",
    "    else:\n",
    "        vals = 10\n",
    "\n",
    "    plt.hist(values.iloc[:, i], bins=25, color='#3F5D7D')\n",
    "    plt.xlabel(values.columns[i])\n",
    "\n",
    "plt.tight_layout()"
   ]
  },
  {
   "cell_type": "code",
   "execution_count": null,
   "metadata": {},
   "outputs": [],
   "source": [
    "exo2.describe()"
   ]
  },
  {
   "cell_type": "code",
   "execution_count": null,
   "metadata": {},
   "outputs": [],
   "source": [
    "fig = plt.figure(figsize=(15,60))\n",
    "\n",
    "for i in range(1, len(exo2.columns)):\n",
    "    \n",
    "    plt.subplot(20, 5, i)\n",
    "\n",
    "    ax = sns.boxplot(exo2['koi_disposition'], exo2.iloc[:, i])\n",
    "    plt.xticks(rotation = 45)     \n",
    "\n",
    "plt.tight_layout()"
   ]
  },
  {
   "cell_type": "code",
   "execution_count": null,
   "metadata": {},
   "outputs": [],
   "source": [
    "exo2.info()"
   ]
  },
  {
   "cell_type": "markdown",
   "metadata": {},
   "source": [
    "## Feature Selection"
   ]
  },
  {
   "cell_type": "code",
   "execution_count": null,
   "metadata": {},
   "outputs": [],
   "source": [
    "skip_columns = [\n",
    "    'koi_disposition',\n",
    "    'koi_fpflag_nt',\n",
    "    'koi_fpflag_ss',\n",
    "    'koi_fpflag_co',\n",
    "    'koi_fpflag_ec'\n",
    "]\n",
    "\n",
    "keep_columns = [\n",
    "    'koi_period',\n",
    "    'koi_time0bk',\n",
    "    'koi_impact',\n",
    "    'koi_duration',\n",
    "    'koi_depth',\n",
    "    'koi_prad',\n",
    "    'koi_teq',\n",
    "    'koi_insol',\n",
    "    'koi_model_snr',\n",
    "    'koi_tce_plnt_num',\n",
    "    'koi_steff',\n",
    "    'koi_slogg',\n",
    "    'koi_srad',\n",
    "    'ra',\n",
    "    'dec',\n",
    "    'koi_kepmag'\n",
    "]\n",
    "\n",
    "features = exo2[keep_columns]\n",
    "response = exo2[skip_columns]"
   ]
  },
  {
   "cell_type": "markdown",
   "metadata": {},
   "source": [
    "## Data Transformation"
   ]
  },
  {
   "cell_type": "code",
   "execution_count": null,
   "metadata": {},
   "outputs": [],
   "source": [
    "trans_data = pd.DataFrame()\n",
    "\n",
    "for (col, data) in features.items():\n",
    "    \n",
    "    log_label = 'log_' + str(col)\n",
    "    sq_label = 'sq_' + str(col)\n",
    "    \n",
    "    if col in skip_columns:\n",
    "        continue    \n",
    "        \n",
    "    elif data.min() == 0:   \n",
    "        trans_data[log_label] = np.log(exo2[col] + 0.001)\n",
    "        \n",
    "    elif data.max() == 0:\n",
    "        trans_data[log_label] = np.log(np.absolute(exo2[col] + 0.001))\n",
    "        \n",
    "    else:\n",
    "        trans_data[log_label] = np.log(exo2[col])\n",
    "\n",
    "trans_data = trans_data.apply(zscore)"
   ]
  },
  {
   "cell_type": "code",
   "execution_count": null,
   "metadata": {},
   "outputs": [],
   "source": [
    "trans_data.sample(5)"
   ]
  },
  {
   "cell_type": "code",
   "execution_count": null,
   "metadata": {},
   "outputs": [],
   "source": [
    "trans_data.describe()"
   ]
  },
  {
   "cell_type": "code",
   "execution_count": null,
   "metadata": {},
   "outputs": [],
   "source": [
    "fig = plt.figure(figsize=(15, 12))\n",
    "\n",
    "for i in range(1, len(trans_data.columns)):\n",
    "    plt.subplot(9, 9, i)\n",
    "\n",
    "    plt.hist(trans_data.iloc[:, i], bins=50, color='#3F5D7D')\n",
    "    plt.xlabel(trans_data.columns[i])\n",
    "\n",
    "plt.tight_layout()"
   ]
  },
  {
   "cell_type": "code",
   "execution_count": null,
   "metadata": {},
   "outputs": [],
   "source": [
    "fig = plt.figure(figsize=(15,60))\n",
    "\n",
    "for i in range(1, len(trans_data.columns)):\n",
    "    \n",
    "    plt.subplot(20, 5, i)\n",
    "\n",
    "    ax = sns.boxplot(response['koi_disposition'], trans_data.iloc[:, i])\n",
    "    plt.xticks(rotation = 45)     \n",
    "\n",
    "plt.tight_layout()"
   ]
  },
  {
   "cell_type": "code",
   "execution_count": null,
   "metadata": {},
   "outputs": [],
   "source": [
    "export = pd.concat([response, trans_data], axis=1)"
   ]
  },
  {
   "cell_type": "code",
   "execution_count": null,
   "metadata": {},
   "outputs": [],
   "source": [
    "export.sample(10)"
   ]
  },
  {
   "cell_type": "code",
   "execution_count": null,
   "metadata": {},
   "outputs": [],
   "source": [
    "#export.to_csv('transformed_features.csv')"
   ]
  },
  {
   "cell_type": "markdown",
   "metadata": {},
   "source": [
    "## Sparse Matrix"
   ]
  },
  {
   "cell_type": "code",
   "execution_count": null,
   "metadata": {},
   "outputs": [],
   "source": [
    "qual = pd.DataFrame()\n",
    "\n",
    "for (col, data) in trans_data.items():\n",
    "    \n",
    "    label = 'qual_' + str(col)\n",
    "    \n",
    "    qual[label] = pd.cut(data, 2, labels = ['lower', 'upper'])\n",
    "    \n",
    "qual = pd.get_dummies(qual)"
   ]
  },
  {
   "cell_type": "code",
   "execution_count": null,
   "metadata": {},
   "outputs": [],
   "source": [
    "qual.sample(10)"
   ]
  },
  {
   "cell_type": "code",
   "execution_count": null,
   "metadata": {},
   "outputs": [],
   "source": [
    "sparse = pd.concat([response, qual], axis=1)"
   ]
  },
  {
   "cell_type": "code",
   "execution_count": null,
   "metadata": {},
   "outputs": [],
   "source": [
    "sparse.sample(10)"
   ]
  },
  {
   "cell_type": "code",
   "execution_count": null,
   "metadata": {},
   "outputs": [],
   "source": [
    "#sparse.to_csv('sparse.csv')"
   ]
  },
  {
   "cell_type": "code",
   "execution_count": null,
   "metadata": {},
   "outputs": [],
   "source": []
  }
 ],
 "metadata": {
  "kernelspec": {
   "display_name": "Python 3",
   "language": "python",
   "name": "python3"
  },
  "language_info": {
   "codemirror_mode": {
    "name": "ipython",
    "version": 3
   },
   "file_extension": ".py",
   "mimetype": "text/x-python",
   "name": "python",
   "nbconvert_exporter": "python",
   "pygments_lexer": "ipython3",
   "version": "3.7.3"
  }
 },
 "nbformat": 4,
 "nbformat_minor": 2
}
